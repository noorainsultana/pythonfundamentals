{
 "cells": [
  {
   "cell_type": "code",
   "execution_count": null,
   "id": "b076afbe",
   "metadata": {},
   "outputs": [],
   "source": [
    "Continuation with list datatype :"
   ]
  },
  {
   "cell_type": "code",
   "execution_count": null,
   "id": "d1ac613d",
   "metadata": {},
   "outputs": [],
   "source": []
  },
  {
   "cell_type": "code",
   "execution_count": null,
   "id": "df987da4",
   "metadata": {},
   "outputs": [],
   "source": [
    "ORGANISING THE LIST DATATYPE :"
   ]
  },
  {
   "cell_type": "code",
   "execution_count": 1,
   "id": "dc59b39d",
   "metadata": {},
   "outputs": [],
   "source": [
    "cars = ['kia','suzuki','audi','benz','tata','bmw']"
   ]
  },
  {
   "cell_type": "code",
   "execution_count": 2,
   "id": "cbffbeed",
   "metadata": {},
   "outputs": [
    {
     "name": "stdout",
     "output_type": "stream",
     "text": [
      "['kia', 'suzuki', 'audi', 'benz', 'tata', 'bmw']\n"
     ]
    }
   ],
   "source": [
    "print(cars)"
   ]
  },
  {
   "cell_type": "code",
   "execution_count": null,
   "id": "d5dda0f8",
   "metadata": {},
   "outputs": [],
   "source": []
  },
  {
   "cell_type": "code",
   "execution_count": null,
   "id": "a0ce317e",
   "metadata": {},
   "outputs": [],
   "source": [
    "# In case of displaying the list in alphabetical order :"
   ]
  },
  {
   "cell_type": "code",
   "execution_count": null,
   "id": "265b4564",
   "metadata": {},
   "outputs": [],
   "source": [
    "1. Temporary approach ----> changes are applied temporarily ====> sorted"
   ]
  },
  {
   "cell_type": "code",
   "execution_count": 3,
   "id": "8067b883",
   "metadata": {},
   "outputs": [
    {
     "name": "stdout",
     "output_type": "stream",
     "text": [
      "['kia', 'suzuki', 'audi', 'benz', 'tata', 'bmw']\n"
     ]
    }
   ],
   "source": [
    "print(cars)"
   ]
  },
  {
   "cell_type": "code",
   "execution_count": 4,
   "id": "ee9723e1",
   "metadata": {},
   "outputs": [
    {
     "name": "stdout",
     "output_type": "stream",
     "text": [
      "['audi', 'benz', 'bmw', 'kia', 'suzuki', 'tata']\n"
     ]
    }
   ],
   "source": [
    "print(sorted(cars))"
   ]
  },
  {
   "cell_type": "code",
   "execution_count": 5,
   "id": "b166831f",
   "metadata": {},
   "outputs": [
    {
     "name": "stdout",
     "output_type": "stream",
     "text": [
      "['kia', 'suzuki', 'audi', 'benz', 'tata', 'bmw']\n"
     ]
    }
   ],
   "source": [
    "print(cars)"
   ]
  },
  {
   "cell_type": "code",
   "execution_count": null,
   "id": "6d794691",
   "metadata": {},
   "outputs": [],
   "source": []
  },
  {
   "cell_type": "code",
   "execution_count": null,
   "id": "a1b7d0a6",
   "metadata": {},
   "outputs": [],
   "source": [
    "2. Permanent approach ----> changes are applied permanently ====> sort"
   ]
  },
  {
   "cell_type": "code",
   "execution_count": 6,
   "id": "b5ada58f",
   "metadata": {},
   "outputs": [],
   "source": [
    "cars.sort()"
   ]
  },
  {
   "cell_type": "code",
   "execution_count": 7,
   "id": "394d1015",
   "metadata": {},
   "outputs": [
    {
     "name": "stdout",
     "output_type": "stream",
     "text": [
      "['audi', 'benz', 'bmw', 'kia', 'suzuki', 'tata']\n"
     ]
    }
   ],
   "source": [
    "print(cars)"
   ]
  },
  {
   "cell_type": "code",
   "execution_count": 8,
   "id": "46caa838",
   "metadata": {},
   "outputs": [
    {
     "name": "stdout",
     "output_type": "stream",
     "text": [
      "['audi', 'benz', 'bmw', 'kia', 'suzuki', 'tata']\n"
     ]
    }
   ],
   "source": [
    "print(cars)"
   ]
  },
  {
   "cell_type": "code",
   "execution_count": null,
   "id": "51ce4c82",
   "metadata": {},
   "outputs": [],
   "source": []
  },
  {
   "cell_type": "code",
   "execution_count": null,
   "id": "2381ca50",
   "metadata": {},
   "outputs": [],
   "source": [
    "# In case of displaying the list in reverse alphabetical order"
   ]
  },
  {
   "cell_type": "code",
   "execution_count": 9,
   "id": "30f0e3d5",
   "metadata": {},
   "outputs": [],
   "source": [
    "cars.reverse()"
   ]
  },
  {
   "cell_type": "code",
   "execution_count": 10,
   "id": "e3588abf",
   "metadata": {},
   "outputs": [
    {
     "name": "stdout",
     "output_type": "stream",
     "text": [
      "['tata', 'suzuki', 'kia', 'bmw', 'benz', 'audi']\n"
     ]
    }
   ],
   "source": [
    "print(cars)"
   ]
  },
  {
   "cell_type": "code",
   "execution_count": null,
   "id": "f4e04b15",
   "metadata": {},
   "outputs": [],
   "source": []
  },
  {
   "cell_type": "code",
   "execution_count": null,
   "id": "2abcba1f",
   "metadata": {},
   "outputs": [],
   "source": [
    "# In case of counting the number of elements in the list"
   ]
  },
  {
   "cell_type": "code",
   "execution_count": 11,
   "id": "44859c75",
   "metadata": {},
   "outputs": [
    {
     "name": "stdout",
     "output_type": "stream",
     "text": [
      "['tata', 'suzuki', 'kia', 'bmw', 'benz', 'audi']\n"
     ]
    }
   ],
   "source": [
    "print(cars)"
   ]
  },
  {
   "cell_type": "code",
   "execution_count": 12,
   "id": "d9b58104",
   "metadata": {},
   "outputs": [
    {
     "data": {
      "text/plain": [
       "6"
      ]
     },
     "execution_count": 12,
     "metadata": {},
     "output_type": "execute_result"
    }
   ],
   "source": [
    "len(cars)"
   ]
  },
  {
   "cell_type": "code",
   "execution_count": null,
   "id": "793b4b9a",
   "metadata": {},
   "outputs": [],
   "source": []
  },
  {
   "cell_type": "code",
   "execution_count": null,
   "id": "f1cba31c",
   "metadata": {},
   "outputs": [],
   "source": [
    "INTRODUCTION TO SLICING : **"
   ]
  },
  {
   "cell_type": "code",
   "execution_count": 13,
   "id": "c814f39d",
   "metadata": {},
   "outputs": [],
   "source": [
    "students = ['ravi','joseph','naveed','imran','keerthi','shaheen','dolly','roohi']"
   ]
  },
  {
   "cell_type": "code",
   "execution_count": 14,
   "id": "e18b3ba6",
   "metadata": {},
   "outputs": [
    {
     "name": "stdout",
     "output_type": "stream",
     "text": [
      "['ravi', 'joseph', 'naveed', 'imran', 'keerthi', 'shaheen', 'dolly', 'roohi']\n"
     ]
    }
   ],
   "source": [
    "print(students)"
   ]
  },
  {
   "cell_type": "code",
   "execution_count": 15,
   "id": "3adb9dc5",
   "metadata": {},
   "outputs": [
    {
     "data": {
      "text/plain": [
       "list"
      ]
     },
     "execution_count": 15,
     "metadata": {},
     "output_type": "execute_result"
    }
   ],
   "source": [
    "type(students)"
   ]
  },
  {
   "cell_type": "code",
   "execution_count": null,
   "id": "246c7905",
   "metadata": {},
   "outputs": [],
   "source": [
    "# General syntax of slicing"
   ]
  },
  {
   "cell_type": "code",
   "execution_count": null,
   "id": "43962021",
   "metadata": {},
   "outputs": [],
   "source": [
    "list[startvalue:stopvalue:stepcount]\n",
    "\n",
    "Note : Stop value is always exclusive, to include the stop value have to increase the index by +1."
   ]
  },
  {
   "cell_type": "code",
   "execution_count": null,
   "id": "ff40a113",
   "metadata": {},
   "outputs": [],
   "source": [
    "# In case of wanting to include ravi and joseph is the list"
   ]
  },
  {
   "cell_type": "code",
   "execution_count": 16,
   "id": "56e22e55",
   "metadata": {},
   "outputs": [
    {
     "name": "stdout",
     "output_type": "stream",
     "text": [
      "['ravi']\n"
     ]
    }
   ],
   "source": [
    "print(students[0:1])"
   ]
  },
  {
   "cell_type": "code",
   "execution_count": null,
   "id": "3abe6d66",
   "metadata": {},
   "outputs": [],
   "source": [
    " # To include the stop value, increase the index by +1"
   ]
  },
  {
   "cell_type": "code",
   "execution_count": 17,
   "id": "6ec75a42",
   "metadata": {},
   "outputs": [
    {
     "name": "stdout",
     "output_type": "stream",
     "text": [
      "['ravi', 'joseph']\n"
     ]
    }
   ],
   "source": [
    "print(students[0:2])"
   ]
  },
  {
   "cell_type": "code",
   "execution_count": null,
   "id": "62574ad9",
   "metadata": {},
   "outputs": [],
   "source": [
    "# naveed and imran"
   ]
  },
  {
   "cell_type": "code",
   "execution_count": 18,
   "id": "3816af38",
   "metadata": {},
   "outputs": [
    {
     "name": "stdout",
     "output_type": "stream",
     "text": [
      "['naveed', 'imran']\n"
     ]
    }
   ],
   "source": [
    "print(students[2:4])"
   ]
  },
  {
   "cell_type": "code",
   "execution_count": null,
   "id": "ac027c67",
   "metadata": {},
   "outputs": [],
   "source": [
    "# dolly and roohi"
   ]
  },
  {
   "cell_type": "code",
   "execution_count": 19,
   "id": "b5e0a434",
   "metadata": {},
   "outputs": [
    {
     "name": "stdout",
     "output_type": "stream",
     "text": [
      "['dolly', 'roohi']\n"
     ]
    }
   ],
   "source": [
    "print(students[6:8])"
   ]
  },
  {
   "cell_type": "code",
   "execution_count": null,
   "id": "5f1b523f",
   "metadata": {},
   "outputs": [],
   "source": []
  },
  {
   "cell_type": "code",
   "execution_count": null,
   "id": "5b49fc82",
   "metadata": {},
   "outputs": [],
   "source": [
    "# In case of wanting to access alternate names on the list"
   ]
  },
  {
   "cell_type": "code",
   "execution_count": 20,
   "id": "6f038d3f",
   "metadata": {},
   "outputs": [
    {
     "name": "stdout",
     "output_type": "stream",
     "text": [
      "['ravi', 'joseph', 'naveed', 'imran', 'keerthi', 'shaheen', 'dolly', 'roohi']\n"
     ]
    }
   ],
   "source": [
    "print(students)"
   ]
  },
  {
   "cell_type": "code",
   "execution_count": 21,
   "id": "63bda71c",
   "metadata": {},
   "outputs": [
    {
     "name": "stdout",
     "output_type": "stream",
     "text": [
      "['ravi', 'naveed', 'keerthi', 'dolly']\n"
     ]
    }
   ],
   "source": [
    "print(students[0:7:2])"
   ]
  },
  {
   "cell_type": "code",
   "execution_count": null,
   "id": "3b65638c",
   "metadata": {},
   "outputs": [],
   "source": []
  }
 ],
 "metadata": {
  "kernelspec": {
   "display_name": "Python 3 (ipykernel)",
   "language": "python",
   "name": "python3"
  },
  "language_info": {
   "codemirror_mode": {
    "name": "ipython",
    "version": 3
   },
   "file_extension": ".py",
   "mimetype": "text/x-python",
   "name": "python",
   "nbconvert_exporter": "python",
   "pygments_lexer": "ipython3",
   "version": "3.9.7"
  }
 },
 "nbformat": 4,
 "nbformat_minor": 5
}
