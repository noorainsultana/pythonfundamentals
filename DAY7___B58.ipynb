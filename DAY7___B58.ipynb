{
 "cells": [
  {
   "cell_type": "code",
   "execution_count": null,
   "id": "cfeefda5",
   "metadata": {},
   "outputs": [],
   "source": [
    "INTRODUCTION TO TUPLE DATATYPE : "
   ]
  },
  {
   "cell_type": "code",
   "execution_count": null,
   "id": "71092c01",
   "metadata": {},
   "outputs": [],
   "source": [
    "Definition : An immutable list is called a tuple datatype.\n",
    "    \n",
    "Classification : It is classified as an immutable datatype.    "
   ]
  },
  {
   "cell_type": "code",
   "execution_count": null,
   "id": "e38b2d36",
   "metadata": {},
   "outputs": [],
   "source": [
    "how to define the tuple datatype -----> ()"
   ]
  },
  {
   "cell_type": "code",
   "execution_count": null,
   "id": "f4e09233",
   "metadata": {},
   "outputs": [],
   "source": []
  },
  {
   "cell_type": "code",
   "execution_count": 1,
   "id": "bd4f1190",
   "metadata": {},
   "outputs": [],
   "source": [
    "students = ('nikhil','praveen','raheem','imran','keerthi','farida')"
   ]
  },
  {
   "cell_type": "code",
   "execution_count": 2,
   "id": "1e201b3e",
   "metadata": {},
   "outputs": [
    {
     "name": "stdout",
     "output_type": "stream",
     "text": [
      "('nikhil', 'praveen', 'raheem', 'imran', 'keerthi', 'farida')\n"
     ]
    }
   ],
   "source": [
    "print(students)"
   ]
  },
  {
   "cell_type": "code",
   "execution_count": 3,
   "id": "1b993bd6",
   "metadata": {},
   "outputs": [
    {
     "data": {
      "text/plain": [
       "tuple"
      ]
     },
     "execution_count": 3,
     "metadata": {},
     "output_type": "execute_result"
    }
   ],
   "source": [
    "type(students)"
   ]
  },
  {
   "cell_type": "code",
   "execution_count": null,
   "id": "ba6a78e0",
   "metadata": {},
   "outputs": [],
   "source": []
  },
  {
   "cell_type": "code",
   "execution_count": null,
   "id": "b5c0e7d2",
   "metadata": {},
   "outputs": [],
   "source": [
    "# In case of wanting to change nikhil to naveed"
   ]
  },
  {
   "cell_type": "code",
   "execution_count": 4,
   "id": "d15c9de5",
   "metadata": {},
   "outputs": [
    {
     "ename": "TypeError",
     "evalue": "'tuple' object does not support item assignment",
     "output_type": "error",
     "traceback": [
      "\u001b[1;31m---------------------------------------------------------------------------\u001b[0m",
      "\u001b[1;31mTypeError\u001b[0m                                 Traceback (most recent call last)",
      "\u001b[1;32m~\\AppData\\Local\\Temp/ipykernel_8648/3034645794.py\u001b[0m in \u001b[0;36m<module>\u001b[1;34m\u001b[0m\n\u001b[1;32m----> 1\u001b[1;33m \u001b[0mstudents\u001b[0m\u001b[1;33m[\u001b[0m\u001b[1;36m0\u001b[0m\u001b[1;33m]\u001b[0m \u001b[1;33m=\u001b[0m \u001b[1;34m'naveed'\u001b[0m\u001b[1;33m\u001b[0m\u001b[1;33m\u001b[0m\u001b[0m\n\u001b[0m",
      "\u001b[1;31mTypeError\u001b[0m: 'tuple' object does not support item assignment"
     ]
    }
   ],
   "source": [
    "students[0] = 'naveed'"
   ]
  },
  {
   "cell_type": "code",
   "execution_count": null,
   "id": "204ef447",
   "metadata": {},
   "outputs": [],
   "source": [
    "# It's because tuple datatype is an IMMUTABLE datatype ----> fixed"
   ]
  },
  {
   "cell_type": "code",
   "execution_count": null,
   "id": "2d009588",
   "metadata": {},
   "outputs": [],
   "source": []
  },
  {
   "cell_type": "code",
   "execution_count": 5,
   "id": "c5df96b9",
   "metadata": {},
   "outputs": [],
   "source": [
    "dimensions = (200, 50)"
   ]
  },
  {
   "cell_type": "code",
   "execution_count": 6,
   "id": "2cb0e282",
   "metadata": {},
   "outputs": [
    {
     "name": "stdout",
     "output_type": "stream",
     "text": [
      "(200, 50)\n"
     ]
    }
   ],
   "source": [
    "print(dimensions)"
   ]
  },
  {
   "cell_type": "code",
   "execution_count": null,
   "id": "55a44d96",
   "metadata": {},
   "outputs": [],
   "source": [
    "# In case of wanting to change the dimensions from 200 to 250"
   ]
  },
  {
   "cell_type": "code",
   "execution_count": 7,
   "id": "7f60ef1e",
   "metadata": {},
   "outputs": [],
   "source": [
    "dimensions = (250, 50)"
   ]
  },
  {
   "cell_type": "code",
   "execution_count": 8,
   "id": "4d1c6630",
   "metadata": {},
   "outputs": [
    {
     "name": "stdout",
     "output_type": "stream",
     "text": [
      "(250, 50)\n"
     ]
    }
   ],
   "source": [
    "print(dimensions)"
   ]
  },
  {
   "cell_type": "code",
   "execution_count": null,
   "id": "7bbb2d7f",
   "metadata": {},
   "outputs": [],
   "source": []
  },
  {
   "cell_type": "code",
   "execution_count": 9,
   "id": "db227006",
   "metadata": {},
   "outputs": [
    {
     "name": "stdout",
     "output_type": "stream",
     "text": [
      "('nikhil', 'praveen', 'raheem', 'imran', 'keerthi', 'farida')\n"
     ]
    }
   ],
   "source": [
    "print(students)"
   ]
  },
  {
   "cell_type": "code",
   "execution_count": null,
   "id": "e58824da",
   "metadata": {},
   "outputs": [],
   "source": [
    "# In case of wanting to access praveen in the output."
   ]
  },
  {
   "cell_type": "code",
   "execution_count": 10,
   "id": "219b8267",
   "metadata": {},
   "outputs": [
    {
     "name": "stdout",
     "output_type": "stream",
     "text": [
      "praveen\n"
     ]
    }
   ],
   "source": [
    "print(students[1])"
   ]
  },
  {
   "cell_type": "code",
   "execution_count": null,
   "id": "41c172eb",
   "metadata": {},
   "outputs": [],
   "source": []
  },
  {
   "cell_type": "code",
   "execution_count": null,
   "id": "7d2e2e6f",
   "metadata": {},
   "outputs": [],
   "source": [
    "# In case of wanting to implement a for loop onto the tuple."
   ]
  },
  {
   "cell_type": "code",
   "execution_count": 11,
   "id": "90a44e76",
   "metadata": {},
   "outputs": [
    {
     "name": "stdout",
     "output_type": "stream",
     "text": [
      "nikhil\n",
      "praveen\n",
      "raheem\n",
      "imran\n",
      "keerthi\n",
      "farida\n"
     ]
    }
   ],
   "source": [
    "for x in students:\n",
    "    print(x)"
   ]
  },
  {
   "cell_type": "code",
   "execution_count": null,
   "id": "03aa25ce",
   "metadata": {},
   "outputs": [],
   "source": []
  },
  {
   "cell_type": "code",
   "execution_count": null,
   "id": "48feadab",
   "metadata": {},
   "outputs": [],
   "source": []
  }
 ],
 "metadata": {
  "kernelspec": {
   "display_name": "Python 3 (ipykernel)",
   "language": "python",
   "name": "python3"
  },
  "language_info": {
   "codemirror_mode": {
    "name": "ipython",
    "version": 3
   },
   "file_extension": ".py",
   "mimetype": "text/x-python",
   "name": "python",
   "nbconvert_exporter": "python",
   "pygments_lexer": "ipython3",
   "version": "3.9.7"
  }
 },
 "nbformat": 4,
 "nbformat_minor": 5
}
