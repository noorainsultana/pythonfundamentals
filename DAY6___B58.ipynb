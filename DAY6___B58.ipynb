{
 "cells": [
  {
   "cell_type": "code",
   "execution_count": null,
   "id": "77128cc8",
   "metadata": {},
   "outputs": [],
   "source": [
    "INTRODUCTION TO LOOPING STATEMENTS : **"
   ]
  },
  {
   "cell_type": "code",
   "execution_count": null,
   "id": "6dc415ef",
   "metadata": {},
   "outputs": [],
   "source": []
  },
  {
   "cell_type": "code",
   "execution_count": null,
   "id": "6abfb554",
   "metadata": {},
   "outputs": [],
   "source": [
    "understanding the concept of for loops :"
   ]
  },
  {
   "cell_type": "code",
   "execution_count": 1,
   "id": "3ac0365a",
   "metadata": {},
   "outputs": [],
   "source": [
    "students = ['kumar','naveen','vinaya','samreen','naveed','sohail']"
   ]
  },
  {
   "cell_type": "code",
   "execution_count": 2,
   "id": "3303bc8d",
   "metadata": {},
   "outputs": [
    {
     "name": "stdout",
     "output_type": "stream",
     "text": [
      "['kumar', 'naveen', 'vinaya', 'samreen', 'naveed', 'sohail']\n"
     ]
    }
   ],
   "source": [
    "print(students)"
   ]
  },
  {
   "cell_type": "code",
   "execution_count": null,
   "id": "26d36439",
   "metadata": {},
   "outputs": [],
   "source": []
  },
  {
   "cell_type": "code",
   "execution_count": null,
   "id": "c5df6b07",
   "metadata": {},
   "outputs": [],
   "source": [
    "1st approach : "
   ]
  },
  {
   "cell_type": "code",
   "execution_count": 3,
   "id": "2c15e17c",
   "metadata": {},
   "outputs": [
    {
     "name": "stdout",
     "output_type": "stream",
     "text": [
      "keep up the good work, kumar\n"
     ]
    }
   ],
   "source": [
    "message = f\"keep up the good work, {students[0]}\"\n",
    "print(message)"
   ]
  },
  {
   "cell_type": "code",
   "execution_count": 4,
   "id": "9a340773",
   "metadata": {},
   "outputs": [
    {
     "name": "stdout",
     "output_type": "stream",
     "text": [
      "keep up the good work, naveen\n"
     ]
    }
   ],
   "source": [
    "message = f\"keep up the good work, {students[1]}\"\n",
    "print(message)"
   ]
  },
  {
   "cell_type": "code",
   "execution_count": 5,
   "id": "bee976fd",
   "metadata": {},
   "outputs": [
    {
     "name": "stdout",
     "output_type": "stream",
     "text": [
      "keep up the good work, Vinaya\n"
     ]
    }
   ],
   "source": [
    "message = f\"keep up the good work, {students[2].title()}\"\n",
    "print(message)"
   ]
  },
  {
   "cell_type": "code",
   "execution_count": null,
   "id": "45894ed8",
   "metadata": {},
   "outputs": [],
   "source": []
  },
  {
   "cell_type": "code",
   "execution_count": null,
   "id": "8d7905f7",
   "metadata": {},
   "outputs": [],
   "source": [
    "# General syntax of a for loop : "
   ]
  },
  {
   "cell_type": "code",
   "execution_count": null,
   "id": "92f6273a",
   "metadata": {},
   "outputs": [],
   "source": [
    "for tempvar in mainvar:         # indentation is mandatory in loops\n",
    "    print(tempvar)"
   ]
  },
  {
   "cell_type": "code",
   "execution_count": 6,
   "id": "1d34dac3",
   "metadata": {},
   "outputs": [
    {
     "name": "stdout",
     "output_type": "stream",
     "text": [
      "keep up the good work, Kumar\n",
      "keep up the good work, Naveen\n",
      "keep up the good work, Vinaya\n",
      "keep up the good work, Samreen\n",
      "keep up the good work, Naveed\n",
      "keep up the good work, Sohail\n"
     ]
    }
   ],
   "source": [
    "for x in students:                                  # tempvar can be anything \n",
    "    print(f\"keep up the good work, {x.title()}\")          x,y,name...etc"
   ]
  },
  {
   "cell_type": "code",
   "execution_count": 7,
   "id": "1f436969",
   "metadata": {},
   "outputs": [
    {
     "name": "stdout",
     "output_type": "stream",
     "text": [
      "keep up the good work, Kumar\n",
      "keep up the good work, Naveen\n",
      "keep up the good work, Vinaya\n",
      "keep up the good work, Samreen\n",
      "keep up the good work, Naveed\n",
      "keep up the good work, Sohail\n"
     ]
    }
   ],
   "source": [
    "for ironman in students:\n",
    "    print(f\"keep up the good work, {ironman.title()}\")"
   ]
  },
  {
   "cell_type": "code",
   "execution_count": null,
   "id": "100acd7c",
   "metadata": {},
   "outputs": [],
   "source": []
  },
  {
   "cell_type": "code",
   "execution_count": null,
   "id": "016d9572",
   "metadata": {},
   "outputs": [],
   "source": [
    "# Enhancement of the code :"
   ]
  },
  {
   "cell_type": "code",
   "execution_count": 8,
   "id": "992221b9",
   "metadata": {},
   "outputs": [
    {
     "name": "stdout",
     "output_type": "stream",
     "text": [
      "keep up the good work, Kumar\n",
      "I will be looking forward to receive your github urls of today, Kumar\n",
      "keep up the good work, Naveen\n",
      "I will be looking forward to receive your github urls of today, Naveen\n",
      "keep up the good work, Vinaya\n",
      "I will be looking forward to receive your github urls of today, Vinaya\n",
      "keep up the good work, Samreen\n",
      "I will be looking forward to receive your github urls of today, Samreen\n",
      "keep up the good work, Naveed\n",
      "I will be looking forward to receive your github urls of today, Naveed\n",
      "keep up the good work, Sohail\n",
      "I will be looking forward to receive your github urls of today, Sohail\n"
     ]
    }
   ],
   "source": [
    "for x in students:\n",
    "    print(f\"keep up the good work, {x.title()}\")\n",
    "    print(f\"I will be looking forward to receive your github urls of today, {x.title()}\")"
   ]
  },
  {
   "cell_type": "code",
   "execution_count": null,
   "id": "be22104b",
   "metadata": {},
   "outputs": [],
   "source": []
  },
  {
   "cell_type": "code",
   "execution_count": null,
   "id": "8b3b09ac",
   "metadata": {},
   "outputs": [],
   "source": [
    "# In case of addition of whitespace :"
   ]
  },
  {
   "cell_type": "code",
   "execution_count": 9,
   "id": "dc2cb06f",
   "metadata": {},
   "outputs": [
    {
     "name": "stdout",
     "output_type": "stream",
     "text": [
      "keep up the good work, Kumar\n",
      "I will be looking forward to receive your github urls of today, Kumar\n",
      "\n",
      "keep up the good work, Naveen\n",
      "I will be looking forward to receive your github urls of today, Naveen\n",
      "\n",
      "keep up the good work, Vinaya\n",
      "I will be looking forward to receive your github urls of today, Vinaya\n",
      "\n",
      "keep up the good work, Samreen\n",
      "I will be looking forward to receive your github urls of today, Samreen\n",
      "\n",
      "keep up the good work, Naveed\n",
      "I will be looking forward to receive your github urls of today, Naveed\n",
      "\n",
      "keep up the good work, Sohail\n",
      "I will be looking forward to receive your github urls of today, Sohail\n",
      "\n"
     ]
    }
   ],
   "source": [
    "for x in students:\n",
    "    print(f\"keep up the good work, {x.title()}\")\n",
    "    print(f\"I will be looking forward to receive your github urls of today, {x.title()}\\n\")"
   ]
  },
  {
   "cell_type": "code",
   "execution_count": null,
   "id": "7f3e6413",
   "metadata": {},
   "outputs": [],
   "source": []
  },
  {
   "cell_type": "code",
   "execution_count": null,
   "id": "b14c2254",
   "metadata": {},
   "outputs": [],
   "source": [
    "# In case of a message to all of the students"
   ]
  },
  {
   "cell_type": "code",
   "execution_count": 10,
   "id": "3d3289a0",
   "metadata": {},
   "outputs": [
    {
     "name": "stdout",
     "output_type": "stream",
     "text": [
      "keep up the good work, Kumar\n",
      "I will be looking forward to receive your github urls of today, Kumar\n",
      "\n",
      "keep up the good work, Naveen\n",
      "I will be looking forward to receive your github urls of today, Naveen\n",
      "\n",
      "keep up the good work, Vinaya\n",
      "I will be looking forward to receive your github urls of today, Vinaya\n",
      "\n",
      "keep up the good work, Samreen\n",
      "I will be looking forward to receive your github urls of today, Samreen\n",
      "\n",
      "keep up the good work, Naveed\n",
      "I will be looking forward to receive your github urls of today, Naveed\n",
      "\n",
      "keep up the good work, Sohail\n",
      "I will be looking forward to receive your github urls of today, Sohail\n",
      "\n",
      "Thank you all of you for joining in the python training sessions\n"
     ]
    }
   ],
   "source": [
    "for x in students:\n",
    "    print(f\"keep up the good work, {x.title()}\")\n",
    "    print(f\"I will be looking forward to receive your github urls of today, {x.title()}\\n\")\n",
    "    \n",
    "print(\"Thank you all of you for joining in the python training sessions\")    "
   ]
  }
 ],
 "metadata": {
  "kernelspec": {
   "display_name": "Python 3 (ipykernel)",
   "language": "python",
   "name": "python3"
  },
  "language_info": {
   "codemirror_mode": {
    "name": "ipython",
    "version": 3
   },
   "file_extension": ".py",
   "mimetype": "text/x-python",
   "name": "python",
   "nbconvert_exporter": "python",
   "pygments_lexer": "ipython3",
   "version": "3.9.7"
  }
 },
 "nbformat": 4,
 "nbformat_minor": 5
}
