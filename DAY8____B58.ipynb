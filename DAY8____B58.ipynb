{
 "cells": [
  {
   "cell_type": "code",
   "execution_count": null,
   "id": "0b4316e7",
   "metadata": {},
   "outputs": [],
   "source": [
    "INTRODUCTION TO DICTIONARY DATATYPE "
   ]
  },
  {
   "cell_type": "code",
   "execution_count": null,
   "id": "5e94d1f9",
   "metadata": {},
   "outputs": [],
   "source": [
    "Definition : A dictionary datatype is a combination of key-value pairs.\n",
    "\n",
    "Classification : Dictionary dataype is classified as mutable datatype.    "
   ]
  },
  {
   "cell_type": "code",
   "execution_count": null,
   "id": "5c72837e",
   "metadata": {},
   "outputs": [],
   "source": [
    "How to define dictionary datatype -----> {}\n",
    "In a shortform it is written as dict"
   ]
  },
  {
   "cell_type": "code",
   "execution_count": null,
   "id": "2006c885",
   "metadata": {},
   "outputs": [],
   "source": []
  },
  {
   "cell_type": "code",
   "execution_count": null,
   "id": "0c80b2db",
   "metadata": {},
   "outputs": [],
   "source": [
    "# In case of designing an alien game"
   ]
  },
  {
   "cell_type": "code",
   "execution_count": 1,
   "id": "7adaf123",
   "metadata": {},
   "outputs": [],
   "source": [
    "alien = {'color':'green','points':'5'}"
   ]
  },
  {
   "cell_type": "code",
   "execution_count": 2,
   "id": "ab4527dd",
   "metadata": {},
   "outputs": [
    {
     "name": "stdout",
     "output_type": "stream",
     "text": [
      "{'color': 'green', 'points': '5'}\n"
     ]
    }
   ],
   "source": [
    "print(alien)"
   ]
  },
  {
   "cell_type": "code",
   "execution_count": 3,
   "id": "2f3babe9",
   "metadata": {},
   "outputs": [
    {
     "data": {
      "text/plain": [
       "dict"
      ]
     },
     "execution_count": 3,
     "metadata": {},
     "output_type": "execute_result"
    }
   ],
   "source": [
    "type(alien)"
   ]
  },
  {
   "cell_type": "code",
   "execution_count": null,
   "id": "10c16a9f",
   "metadata": {},
   "outputs": [],
   "source": []
  },
  {
   "cell_type": "code",
   "execution_count": null,
   "id": "240b70e6",
   "metadata": {},
   "outputs": [],
   "source": [
    "# How to access the elements in dictionary datatype"
   ]
  },
  {
   "cell_type": "code",
   "execution_count": 4,
   "id": "b9937988",
   "metadata": {},
   "outputs": [
    {
     "name": "stdout",
     "output_type": "stream",
     "text": [
      "green\n"
     ]
    }
   ],
   "source": [
    "print(alien['color'])"
   ]
  },
  {
   "cell_type": "code",
   "execution_count": null,
   "id": "574c533e",
   "metadata": {},
   "outputs": [],
   "source": [
    "Note : Give the key and get the value.\n",
    "In a dict keys will be acting as indexes.    "
   ]
  },
  {
   "cell_type": "code",
   "execution_count": 5,
   "id": "d1c850ff",
   "metadata": {},
   "outputs": [
    {
     "name": "stdout",
     "output_type": "stream",
     "text": [
      "5\n"
     ]
    }
   ],
   "source": [
    "print(alien['points'])"
   ]
  },
  {
   "cell_type": "code",
   "execution_count": null,
   "id": "c653bd0b",
   "metadata": {},
   "outputs": [],
   "source": []
  },
  {
   "cell_type": "code",
   "execution_count": null,
   "id": "a38cbf28",
   "metadata": {},
   "outputs": [],
   "source": [
    "# In case of trying to access the elements in opposite way"
   ]
  },
  {
   "cell_type": "code",
   "execution_count": 6,
   "id": "da300442",
   "metadata": {},
   "outputs": [
    {
     "ename": "KeyError",
     "evalue": "'green'",
     "output_type": "error",
     "traceback": [
      "\u001b[1;31m---------------------------------------------------------------------------\u001b[0m",
      "\u001b[1;31mKeyError\u001b[0m                                  Traceback (most recent call last)",
      "\u001b[1;32m~\\AppData\\Local\\Temp/ipykernel_6180/3756911678.py\u001b[0m in \u001b[0;36m<module>\u001b[1;34m\u001b[0m\n\u001b[1;32m----> 1\u001b[1;33m \u001b[0mprint\u001b[0m\u001b[1;33m(\u001b[0m\u001b[0malien\u001b[0m\u001b[1;33m[\u001b[0m\u001b[1;34m'green'\u001b[0m\u001b[1;33m]\u001b[0m\u001b[1;33m)\u001b[0m\u001b[1;33m\u001b[0m\u001b[1;33m\u001b[0m\u001b[0m\n\u001b[0m",
      "\u001b[1;31mKeyError\u001b[0m: 'green'"
     ]
    }
   ],
   "source": [
    "print(alien['green'])"
   ]
  },
  {
   "cell_type": "code",
   "execution_count": null,
   "id": "05fef5b8",
   "metadata": {},
   "outputs": [],
   "source": []
  },
  {
   "cell_type": "code",
   "execution_count": null,
   "id": "e070c9a0",
   "metadata": {},
   "outputs": [],
   "source": [
    "# In case of adding new key-value pairs to the dictionary"
   ]
  },
  {
   "cell_type": "code",
   "execution_count": null,
   "id": "83933245",
   "metadata": {},
   "outputs": [],
   "source": [
    "# adding starting position"
   ]
  },
  {
   "cell_type": "code",
   "execution_count": 7,
   "id": "1c410b60",
   "metadata": {},
   "outputs": [],
   "source": [
    "alien['starting_position'] = 0"
   ]
  },
  {
   "cell_type": "code",
   "execution_count": 8,
   "id": "0e83503f",
   "metadata": {},
   "outputs": [
    {
     "name": "stdout",
     "output_type": "stream",
     "text": [
      "{'color': 'green', 'points': '5', 'starting_position': 0}\n"
     ]
    }
   ],
   "source": [
    "print(alien)"
   ]
  },
  {
   "cell_type": "code",
   "execution_count": null,
   "id": "ca3a9460",
   "metadata": {},
   "outputs": [],
   "source": []
  },
  {
   "cell_type": "code",
   "execution_count": null,
   "id": "730fcefd",
   "metadata": {},
   "outputs": [],
   "source": [
    "# In case of creating new user account on Facebook"
   ]
  },
  {
   "cell_type": "code",
   "execution_count": 9,
   "id": "1574c35d",
   "metadata": {},
   "outputs": [],
   "source": [
    "useraccount = {'username':'codetrainingacademy','first_name':'code','last_name':'training','dob':'01-01-2020',\n",
    "              'password':'12345'}"
   ]
  },
  {
   "cell_type": "code",
   "execution_count": 10,
   "id": "013cfbf5",
   "metadata": {},
   "outputs": [
    {
     "name": "stdout",
     "output_type": "stream",
     "text": [
      "{'username': 'codetrainingacademy', 'first_name': 'code', 'last_name': 'training', 'dob': '01-01-2020', 'password': '12345'}\n"
     ]
    }
   ],
   "source": [
    "print(useraccount)"
   ]
  },
  {
   "cell_type": "code",
   "execution_count": 11,
   "id": "4328be66",
   "metadata": {},
   "outputs": [
    {
     "data": {
      "text/plain": [
       "dict"
      ]
     },
     "execution_count": 11,
     "metadata": {},
     "output_type": "execute_result"
    }
   ],
   "source": [
    "type(useraccount)"
   ]
  },
  {
   "cell_type": "code",
   "execution_count": null,
   "id": "3ed3513f",
   "metadata": {},
   "outputs": [],
   "source": [
    "# Updating status : dinner ----> farzi_cafe"
   ]
  },
  {
   "cell_type": "code",
   "execution_count": 12,
   "id": "e3fd8ec5",
   "metadata": {},
   "outputs": [],
   "source": [
    "useraccount['dinner'] = 'farzi_cafe'"
   ]
  },
  {
   "cell_type": "code",
   "execution_count": 13,
   "id": "73a7e8c0",
   "metadata": {},
   "outputs": [
    {
     "name": "stdout",
     "output_type": "stream",
     "text": [
      "{'username': 'codetrainingacademy', 'first_name': 'code', 'last_name': 'training', 'dob': '01-01-2020', 'password': '12345', 'dinner': 'farzi_cafe'}\n"
     ]
    }
   ],
   "source": [
    "print(useraccount)"
   ]
  },
  {
   "cell_type": "code",
   "execution_count": null,
   "id": "135a26b2",
   "metadata": {},
   "outputs": [],
   "source": []
  },
  {
   "cell_type": "code",
   "execution_count": null,
   "id": "409cf835",
   "metadata": {},
   "outputs": [],
   "source": [
    "# How to modify the values in dictionary"
   ]
  },
  {
   "cell_type": "code",
   "execution_count": 14,
   "id": "8cb9f6d9",
   "metadata": {},
   "outputs": [
    {
     "name": "stdout",
     "output_type": "stream",
     "text": [
      "{'color': 'green', 'points': '5', 'starting_position': 0}\n"
     ]
    }
   ],
   "source": [
    "print(alien)"
   ]
  },
  {
   "cell_type": "code",
   "execution_count": null,
   "id": "905bcd43",
   "metadata": {},
   "outputs": [],
   "source": [
    "# green ----> yellow"
   ]
  },
  {
   "cell_type": "code",
   "execution_count": 15,
   "id": "79cec519",
   "metadata": {},
   "outputs": [],
   "source": [
    "alien['color'] = 'yellow'"
   ]
  },
  {
   "cell_type": "code",
   "execution_count": 16,
   "id": "7c1605b7",
   "metadata": {},
   "outputs": [
    {
     "name": "stdout",
     "output_type": "stream",
     "text": [
      "{'color': 'yellow', 'points': '5', 'starting_position': 0}\n"
     ]
    }
   ],
   "source": [
    "print(alien)"
   ]
  },
  {
   "cell_type": "code",
   "execution_count": 17,
   "id": "2e63f39f",
   "metadata": {},
   "outputs": [],
   "source": [
    "useraccount['password'] = '54321'"
   ]
  },
  {
   "cell_type": "code",
   "execution_count": 18,
   "id": "659dbe34",
   "metadata": {},
   "outputs": [
    {
     "name": "stdout",
     "output_type": "stream",
     "text": [
      "{'username': 'codetrainingacademy', 'first_name': 'code', 'last_name': 'training', 'dob': '01-01-2020', 'password': '54321', 'dinner': 'farzi_cafe'}\n"
     ]
    }
   ],
   "source": [
    "print(useraccount)"
   ]
  },
  {
   "cell_type": "code",
   "execution_count": null,
   "id": "8de4a932",
   "metadata": {},
   "outputs": [],
   "source": []
  },
  {
   "cell_type": "code",
   "execution_count": null,
   "id": "63524d27",
   "metadata": {},
   "outputs": [],
   "source": [
    "# How to delete the key-value pairs in a dictionary"
   ]
  },
  {
   "cell_type": "code",
   "execution_count": 19,
   "id": "3442b4f4",
   "metadata": {},
   "outputs": [
    {
     "name": "stdout",
     "output_type": "stream",
     "text": [
      "{'color': 'yellow', 'points': '5', 'starting_position': 0}\n"
     ]
    }
   ],
   "source": [
    "print(alien)"
   ]
  },
  {
   "cell_type": "code",
   "execution_count": 20,
   "id": "8dc02251",
   "metadata": {},
   "outputs": [],
   "source": [
    "del alien['points']"
   ]
  },
  {
   "cell_type": "code",
   "execution_count": 21,
   "id": "8189d5a5",
   "metadata": {},
   "outputs": [
    {
     "name": "stdout",
     "output_type": "stream",
     "text": [
      "{'color': 'yellow', 'starting_position': 0}\n"
     ]
    }
   ],
   "source": [
    "print(alien)"
   ]
  },
  {
   "cell_type": "code",
   "execution_count": null,
   "id": "8db57668",
   "metadata": {},
   "outputs": [],
   "source": []
  },
  {
   "cell_type": "code",
   "execution_count": 22,
   "id": "5e633fe1",
   "metadata": {},
   "outputs": [
    {
     "name": "stdout",
     "output_type": "stream",
     "text": [
      "{'username': 'codetrainingacademy', 'first_name': 'code', 'last_name': 'training', 'dob': '01-01-2020', 'password': '54321', 'dinner': 'farzi_cafe'}\n"
     ]
    }
   ],
   "source": [
    "print(useraccount)"
   ]
  },
  {
   "cell_type": "code",
   "execution_count": 23,
   "id": "8147253a",
   "metadata": {},
   "outputs": [],
   "source": [
    "del useraccount['dinner']"
   ]
  },
  {
   "cell_type": "code",
   "execution_count": 24,
   "id": "6d4f29b9",
   "metadata": {},
   "outputs": [
    {
     "name": "stdout",
     "output_type": "stream",
     "text": [
      "{'username': 'codetrainingacademy', 'first_name': 'code', 'last_name': 'training', 'dob': '01-01-2020', 'password': '54321'}\n"
     ]
    }
   ],
   "source": [
    "print(useraccount)"
   ]
  }
 ],
 "metadata": {
  "kernelspec": {
   "display_name": "Python 3 (ipykernel)",
   "language": "python",
   "name": "python3"
  },
  "language_info": {
   "codemirror_mode": {
    "name": "ipython",
    "version": 3
   },
   "file_extension": ".py",
   "mimetype": "text/x-python",
   "name": "python",
   "nbconvert_exporter": "python",
   "pygments_lexer": "ipython3",
   "version": "3.9.7"
  }
 },
 "nbformat": 4,
 "nbformat_minor": 5
}
