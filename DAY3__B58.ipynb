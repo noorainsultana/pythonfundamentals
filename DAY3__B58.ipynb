{
 "cells": [
  {
   "cell_type": "code",
   "execution_count": null,
   "id": "3723da68",
   "metadata": {},
   "outputs": [],
   "source": [
    "continuation with strings :"
   ]
  },
  {
   "cell_type": "code",
   "execution_count": 1,
   "id": "57c33020",
   "metadata": {},
   "outputs": [
    {
     "name": "stdout",
     "output_type": "stream",
     "text": [
      "noorain sultana\n"
     ]
    }
   ],
   "source": [
    "full_name = 'noorain sultana'\n",
    "\n",
    "print(full_name)"
   ]
  },
  {
   "cell_type": "code",
   "execution_count": null,
   "id": "1b07aff0",
   "metadata": {},
   "outputs": [],
   "source": [
    "# In case of proper format : use .title()"
   ]
  },
  {
   "cell_type": "code",
   "execution_count": 2,
   "id": "04f2e6c5",
   "metadata": {},
   "outputs": [
    {
     "name": "stdout",
     "output_type": "stream",
     "text": [
      "Noorain Sultana\n"
     ]
    }
   ],
   "source": [
    "print(full_name.title())"
   ]
  },
  {
   "cell_type": "code",
   "execution_count": null,
   "id": "aa8fe832",
   "metadata": {},
   "outputs": [],
   "source": [
    "# In case of capital letters : use .upper()"
   ]
  },
  {
   "cell_type": "code",
   "execution_count": 3,
   "id": "1acfa8d5",
   "metadata": {},
   "outputs": [
    {
     "name": "stdout",
     "output_type": "stream",
     "text": [
      "NOORAIN SULTANA\n"
     ]
    }
   ],
   "source": [
    "print(full_name.upper())"
   ]
  },
  {
   "cell_type": "code",
   "execution_count": null,
   "id": "279c5108",
   "metadata": {},
   "outputs": [],
   "source": [
    "# In case of small letters : use .lower()"
   ]
  },
  {
   "cell_type": "code",
   "execution_count": 4,
   "id": "612d29d8",
   "metadata": {},
   "outputs": [
    {
     "name": "stdout",
     "output_type": "stream",
     "text": [
      "noorain sultana\n"
     ]
    }
   ],
   "source": [
    "print(full_name.lower())"
   ]
  },
  {
   "cell_type": "code",
   "execution_count": null,
   "id": "a02e232f",
   "metadata": {},
   "outputs": [],
   "source": []
  },
  {
   "cell_type": "code",
   "execution_count": null,
   "id": "eedd7018",
   "metadata": {},
   "outputs": [],
   "source": [
    "INTRODUCTION TO F STRINGS :"
   ]
  },
  {
   "cell_type": "code",
   "execution_count": null,
   "id": "4dcf4b90",
   "metadata": {},
   "outputs": [],
   "source": [
    "# General syntax of an f string"
   ]
  },
  {
   "cell_type": "code",
   "execution_count": null,
   "id": "99359561",
   "metadata": {},
   "outputs": [],
   "source": [
    "f\" custom words {placeholder} {placeholder2}.....{placeholder n}"
   ]
  },
  {
   "cell_type": "code",
   "execution_count": null,
   "id": "7155db02",
   "metadata": {},
   "outputs": [],
   "source": []
  },
  {
   "cell_type": "code",
   "execution_count": 5,
   "id": "2abe5212",
   "metadata": {},
   "outputs": [],
   "source": [
    "first_name = 'noorain'\n",
    "last_name = 'sultana'"
   ]
  },
  {
   "cell_type": "code",
   "execution_count": null,
   "id": "dc084735",
   "metadata": {
    "collapsed": true
   },
   "outputs": [],
   "source": [
    "# In case of full name "
   ]
  },
  {
   "cell_type": "code",
   "execution_count": 6,
   "id": "3fd5135f",
   "metadata": {},
   "outputs": [
    {
     "name": "stdout",
     "output_type": "stream",
     "text": [
      "noorain sultana\n"
     ]
    }
   ],
   "source": [
    "full_name = f\"{first_name} {last_name}\"\n",
    "print(full_name)"
   ]
  },
  {
   "cell_type": "code",
   "execution_count": 7,
   "id": "e3be4c75",
   "metadata": {},
   "outputs": [
    {
     "name": "stdout",
     "output_type": "stream",
     "text": [
      "keep up the good work, noorain sultana\n"
     ]
    }
   ],
   "source": [
    "message = f\"keep up the good work, {full_name}\"\n",
    "\n",
    "print(message)"
   ]
  },
  {
   "cell_type": "code",
   "execution_count": 9,
   "id": "c85adb29",
   "metadata": {},
   "outputs": [
    {
     "name": "stdout",
     "output_type": "stream",
     "text": [
      "keep up the good work, Noorain Sultana\n"
     ]
    }
   ],
   "source": [
    "message = f\"keep up the good work, {full_name.title()}\"\n",
    "\n",
    "print(message)"
   ]
  },
  {
   "cell_type": "code",
   "execution_count": null,
   "id": "46e10e9d",
   "metadata": {},
   "outputs": [],
   "source": []
  },
  {
   "cell_type": "code",
   "execution_count": null,
   "id": "edc4dcb2",
   "metadata": {},
   "outputs": [],
   "source": [
    "ADDING WHITESPACES TO STRINGS :"
   ]
  },
  {
   "cell_type": "code",
   "execution_count": 10,
   "id": "05ae2255",
   "metadata": {},
   "outputs": [
    {
     "name": "stdout",
     "output_type": "stream",
     "text": [
      "favourite_language:pythonc++javacswiftjavascript\n"
     ]
    }
   ],
   "source": [
    "print(\"favourite_language:pythonc++javacswiftjavascript\")"
   ]
  },
  {
   "cell_type": "code",
   "execution_count": null,
   "id": "ace0c280",
   "metadata": {},
   "outputs": [],
   "source": [
    "# To add whitespaces : use \\n"
   ]
  },
  {
   "cell_type": "code",
   "execution_count": null,
   "id": "59515a05",
   "metadata": {},
   "outputs": [],
   "source": [
    "# \\n is called as new line delimiter."
   ]
  },
  {
   "cell_type": "code",
   "execution_count": 11,
   "id": "193cd87e",
   "metadata": {},
   "outputs": [
    {
     "name": "stdout",
     "output_type": "stream",
     "text": [
      "favourite_language:\n",
      "python\n",
      "c++\n",
      "java\n",
      "c\n",
      "swift\n",
      "javascript\n"
     ]
    }
   ],
   "source": [
    "print(\"favourite_language:\\npython\\nc++\\njava\\nc\\nswift\\njavascript\")"
   ]
  },
  {
   "cell_type": "code",
   "execution_count": 12,
   "id": "29e6de6b",
   "metadata": {},
   "outputs": [
    {
     "name": "stdout",
     "output_type": "stream",
     "text": [
      "favourite_language:\n",
      "\tpython\n",
      "\tc++\n",
      "\tjava\n",
      "\tc\n",
      "\tswift\n",
      "\tjavascript\n"
     ]
    }
   ],
   "source": [
    "print(\"favourite_language:\\n\\tpython\\n\\tc++\\n\\tjava\\n\\tc\\n\\tswift\\n\\tjavascript\")"
   ]
  },
  {
   "cell_type": "code",
   "execution_count": null,
   "id": "13861dcd",
   "metadata": {},
   "outputs": [],
   "source": [
    "# \\t is called tab delimiter.\n",
    "it creates 4 space gaps."
   ]
  },
  {
   "cell_type": "code",
   "execution_count": null,
   "id": "f179a2e3",
   "metadata": {},
   "outputs": [],
   "source": []
  },
  {
   "cell_type": "code",
   "execution_count": null,
   "id": "8a8910fd",
   "metadata": {},
   "outputs": [],
   "source": [
    "REMOVING WHITESPACES FROM STRINGS :"
   ]
  },
  {
   "cell_type": "code",
   "execution_count": 13,
   "id": "cdec0c0f",
   "metadata": {},
   "outputs": [
    {
     "name": "stdout",
     "output_type": "stream",
     "text": [
      "python\n"
     ]
    }
   ],
   "source": [
    "name = 'python'\n",
    "print(name)"
   ]
  },
  {
   "cell_type": "code",
   "execution_count": 17,
   "id": "1938d00e",
   "metadata": {},
   "outputs": [
    {
     "name": "stdout",
     "output_type": "stream",
     "text": [
      "   java\n"
     ]
    }
   ],
   "source": [
    "name2 = '   java'\n",
    "print(name2)"
   ]
  },
  {
   "cell_type": "code",
   "execution_count": 18,
   "id": "e49512fe",
   "metadata": {},
   "outputs": [
    {
     "name": "stdout",
     "output_type": "stream",
     "text": [
      "c++   \n"
     ]
    }
   ],
   "source": [
    "name3 = 'c++   '\n",
    "print(name3)"
   ]
  },
  {
   "cell_type": "code",
   "execution_count": null,
   "id": "f3d37a89",
   "metadata": {},
   "outputs": [],
   "source": [
    "# To remove whitespace from left side : use .lstrip()"
   ]
  },
  {
   "cell_type": "code",
   "execution_count": 19,
   "id": "c595517f",
   "metadata": {},
   "outputs": [
    {
     "data": {
      "text/plain": [
       "'java'"
      ]
     },
     "execution_count": 19,
     "metadata": {},
     "output_type": "execute_result"
    }
   ],
   "source": [
    "name2.lstrip()"
   ]
  },
  {
   "cell_type": "code",
   "execution_count": null,
   "id": "1bbeed72",
   "metadata": {},
   "outputs": [],
   "source": [
    "# To remove whitespace from right side : use .rstrip()"
   ]
  },
  {
   "cell_type": "code",
   "execution_count": 20,
   "id": "d5577d74",
   "metadata": {},
   "outputs": [
    {
     "data": {
      "text/plain": [
       "'c++'"
      ]
     },
     "execution_count": 20,
     "metadata": {},
     "output_type": "execute_result"
    }
   ],
   "source": [
    "name3.rstrip()"
   ]
  },
  {
   "cell_type": "code",
   "execution_count": null,
   "id": "2ed609ec",
   "metadata": {},
   "outputs": [],
   "source": []
  },
  {
   "cell_type": "code",
   "execution_count": null,
   "id": "70cd85dd",
   "metadata": {},
   "outputs": [],
   "source": []
  }
 ],
 "metadata": {
  "kernelspec": {
   "display_name": "Python 3",
   "language": "python",
   "name": "python3"
  },
  "language_info": {
   "codemirror_mode": {
    "name": "ipython",
    "version": 3
   },
   "file_extension": ".py",
   "mimetype": "text/x-python",
   "name": "python",
   "nbconvert_exporter": "python",
   "pygments_lexer": "ipython3",
   "version": "3.8.8"
  }
 },
 "nbformat": 4,
 "nbformat_minor": 5
}
