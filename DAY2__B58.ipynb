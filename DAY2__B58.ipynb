{
 "cells": [
  {
   "cell_type": "code",
   "execution_count": null,
   "id": "e4a1bf0b",
   "metadata": {},
   "outputs": [],
   "source": [
    "understanding the variables in python"
   ]
  },
  {
   "cell_type": "code",
   "execution_count": null,
   "id": "933b4a5a",
   "metadata": {},
   "outputs": [],
   "source": []
  },
  {
   "cell_type": "code",
   "execution_count": 1,
   "id": "96ccf66d",
   "metadata": {},
   "outputs": [],
   "source": [
    "x = 3\n",
    "\n",
    "y = 2"
   ]
  },
  {
   "cell_type": "code",
   "execution_count": 2,
   "id": "082e9efa",
   "metadata": {},
   "outputs": [
    {
     "data": {
      "text/plain": [
       "5"
      ]
     },
     "execution_count": 2,
     "metadata": {},
     "output_type": "execute_result"
    }
   ],
   "source": [
    "x+y"
   ]
  },
  {
   "cell_type": "code",
   "execution_count": null,
   "id": "a4942de7",
   "metadata": {},
   "outputs": [],
   "source": []
  },
  {
   "cell_type": "code",
   "execution_count": null,
   "id": "19172299",
   "metadata": {},
   "outputs": [],
   "source": [
    "Rules for declaring the variables in python"
   ]
  },
  {
   "cell_type": "code",
   "execution_count": null,
   "id": "17c7b791",
   "metadata": {},
   "outputs": [],
   "source": [
    "1. Rule no : A variable should not contain any namespaces."
   ]
  },
  {
   "cell_type": "code",
   "execution_count": null,
   "id": "da204872",
   "metadata": {},
   "outputs": [],
   "source": []
  },
  {
   "cell_type": "code",
   "execution_count": 3,
   "id": "45406d68",
   "metadata": {},
   "outputs": [
    {
     "ename": "SyntaxError",
     "evalue": "invalid syntax (<ipython-input-3-7097072a1a8e>, line 1)",
     "output_type": "error",
     "traceback": [
      "\u001b[1;36m  File \u001b[1;32m\"<ipython-input-3-7097072a1a8e>\"\u001b[1;36m, line \u001b[1;32m1\u001b[0m\n\u001b[1;33m    first name = 'Noorain'\u001b[0m\n\u001b[1;37m          ^\u001b[0m\n\u001b[1;31mSyntaxError\u001b[0m\u001b[1;31m:\u001b[0m invalid syntax\n"
     ]
    }
   ],
   "source": [
    "first name = 'Noorain'\n",
    "print(first name)"
   ]
  },
  {
   "cell_type": "code",
   "execution_count": 4,
   "id": "f3a2a4a7",
   "metadata": {},
   "outputs": [
    {
     "name": "stdout",
     "output_type": "stream",
     "text": [
      "Noorain\n"
     ]
    }
   ],
   "source": [
    "firstname = 'Noorain'\n",
    "print(firstname)"
   ]
  },
  {
   "cell_type": "code",
   "execution_count": null,
   "id": "9b9e831d",
   "metadata": {},
   "outputs": [],
   "source": [
    "In case of space : use _"
   ]
  },
  {
   "cell_type": "code",
   "execution_count": 5,
   "id": "00513ef1",
   "metadata": {},
   "outputs": [
    {
     "name": "stdout",
     "output_type": "stream",
     "text": [
      "Noorain\n"
     ]
    }
   ],
   "source": [
    "first_name = 'Noorain'\n",
    "print(first_name) "
   ]
  },
  {
   "cell_type": "code",
   "execution_count": null,
   "id": "e62ce166",
   "metadata": {},
   "outputs": [],
   "source": [
    "2. Rule no : A variable name should not start with a number.**"
   ]
  },
  {
   "cell_type": "code",
   "execution_count": 6,
   "id": "19e7969a",
   "metadata": {},
   "outputs": [
    {
     "ename": "SyntaxError",
     "evalue": "invalid syntax (<ipython-input-6-503499206b93>, line 1)",
     "output_type": "error",
     "traceback": [
      "\u001b[1;36m  File \u001b[1;32m\"<ipython-input-6-503499206b93>\"\u001b[1;36m, line \u001b[1;32m1\u001b[0m\n\u001b[1;33m    1name = 'Noorain'\u001b[0m\n\u001b[1;37m     ^\u001b[0m\n\u001b[1;31mSyntaxError\u001b[0m\u001b[1;31m:\u001b[0m invalid syntax\n"
     ]
    }
   ],
   "source": [
    "1name = 'Noorain'\n",
    "print(1name)"
   ]
  },
  {
   "cell_type": "code",
   "execution_count": null,
   "id": "92677057",
   "metadata": {},
   "outputs": [],
   "source": [
    "In case of number : use number at the end"
   ]
  },
  {
   "cell_type": "code",
   "execution_count": 7,
   "id": "3828d662",
   "metadata": {},
   "outputs": [
    {
     "name": "stdout",
     "output_type": "stream",
     "text": [
      "Noorain\n"
     ]
    }
   ],
   "source": [
    "name1 = 'Noorain'\n",
    "print(name1)"
   ]
  },
  {
   "cell_type": "code",
   "execution_count": null,
   "id": "dba7b3cf",
   "metadata": {},
   "outputs": [],
   "source": [
    "3. Rule no : A variable name should not contain any special characters."
   ]
  },
  {
   "cell_type": "code",
   "execution_count": null,
   "id": "7da86c94",
   "metadata": {},
   "outputs": [],
   "source": [
    "$@&^*"
   ]
  },
  {
   "cell_type": "code",
   "execution_count": 8,
   "id": "24d8e0b3",
   "metadata": {},
   "outputs": [
    {
     "ename": "SyntaxError",
     "evalue": "invalid syntax (<ipython-input-8-c3949ba09e9f>, line 1)",
     "output_type": "error",
     "traceback": [
      "\u001b[1;36m  File \u001b[1;32m\"<ipython-input-8-c3949ba09e9f>\"\u001b[1;36m, line \u001b[1;32m1\u001b[0m\n\u001b[1;33m    name@ = 'Noorain'\u001b[0m\n\u001b[1;37m          ^\u001b[0m\n\u001b[1;31mSyntaxError\u001b[0m\u001b[1;31m:\u001b[0m invalid syntax\n"
     ]
    }
   ],
   "source": [
    "name@ = 'Noorain'\n",
    "print(name@)"
   ]
  },
  {
   "cell_type": "code",
   "execution_count": null,
   "id": "66d84877",
   "metadata": {},
   "outputs": [],
   "source": []
  },
  {
   "cell_type": "code",
   "execution_count": null,
   "id": "4cd15524",
   "metadata": {},
   "outputs": [],
   "source": [
    "introduction to datatypes in python\n",
    "     1. string ====> str\n",
    "     2. numbers ----> integers(int) and float(float)(decimals)\n",
    "     3. list ========> list\n",
    "     4. tuple =======> tuple\n",
    "     5. dictionaries =====> dict   "
   ]
  },
  {
   "cell_type": "code",
   "execution_count": null,
   "id": "be0f31a2",
   "metadata": {},
   "outputs": [],
   "source": []
  },
  {
   "cell_type": "code",
   "execution_count": null,
   "id": "6c6b0efe",
   "metadata": {
    "collapsed": true
   },
   "outputs": [],
   "source": []
  },
  {
   "cell_type": "code",
   "execution_count": null,
   "id": "b4ffc86c",
   "metadata": {},
   "outputs": [],
   "source": [
    "classification of datatypes\n",
    "  They are broadly classified in to two categories\n",
    "    \n",
    "    1. mutable datatypes ---> which we can edit or alter ====> flexible\n",
    "    2. immutable datatypes ----> which we cannot edit or alter ===> fixed"
   ]
  },
  {
   "cell_type": "code",
   "execution_count": null,
   "id": "d5115c0f",
   "metadata": {},
   "outputs": [],
   "source": []
  },
  {
   "cell_type": "code",
   "execution_count": null,
   "id": "58715da7",
   "metadata": {},
   "outputs": [],
   "source": [
    "intoduction to string datatype : \n",
    "Definition : A string is a series of characters declared in quotes.\n",
    "Classification : They are classified as immutable datatypes (fixed datatypes)    "
   ]
  },
  {
   "cell_type": "code",
   "execution_count": null,
   "id": "1230bc59",
   "metadata": {},
   "outputs": [],
   "source": []
  },
  {
   "cell_type": "code",
   "execution_count": null,
   "id": "2278237f",
   "metadata": {},
   "outputs": [],
   "source": [
    "how to declare the string datatype : ====> 3 possible options\n",
    "    1. single quote\n",
    "    2. double quote\n",
    "    3. triple quote"
   ]
  },
  {
   "cell_type": "code",
   "execution_count": 10,
   "id": "5e35ebbe",
   "metadata": {},
   "outputs": [
    {
     "name": "stdout",
     "output_type": "stream",
     "text": [
      "Noorain\n"
     ]
    }
   ],
   "source": [
    "name = 'Noorain'    # single quote\n",
    "print(name)"
   ]
  },
  {
   "cell_type": "code",
   "execution_count": 11,
   "id": "11d036de",
   "metadata": {},
   "outputs": [
    {
     "name": "stdout",
     "output_type": "stream",
     "text": [
      "Noorain\n"
     ]
    }
   ],
   "source": [
    "name = \"Noorain\"    # double quote\n",
    "print(name)"
   ]
  },
  {
   "cell_type": "code",
   "execution_count": 12,
   "id": "b5de9f8f",
   "metadata": {},
   "outputs": [
    {
     "name": "stdout",
     "output_type": "stream",
     "text": [
      "Noorain\n"
     ]
    }
   ],
   "source": [
    "name = \"\"\"Noorain\"\"\"    # triple quote\n",
    "print(name)"
   ]
  },
  {
   "cell_type": "code",
   "execution_count": null,
   "id": "fa588f42",
   "metadata": {},
   "outputs": [],
   "source": [
    "# hash is used for commenting the code"
   ]
  },
  {
   "cell_type": "code",
   "execution_count": null,
   "id": "6b1fa5fc",
   "metadata": {},
   "outputs": [],
   "source": []
  },
  {
   "cell_type": "code",
   "execution_count": null,
   "id": "9f3791a2",
   "metadata": {},
   "outputs": [],
   "source": [
    "intoduction to string methods :"
   ]
  },
  {
   "cell_type": "code",
   "execution_count": 13,
   "id": "b1b52855",
   "metadata": {},
   "outputs": [
    {
     "data": {
      "text/plain": [
       "str"
      ]
     },
     "execution_count": 13,
     "metadata": {},
     "output_type": "execute_result"
    }
   ],
   "source": [
    "type(name)"
   ]
  },
  {
   "cell_type": "code",
   "execution_count": 15,
   "id": "42e43a99",
   "metadata": {},
   "outputs": [
    {
     "data": {
      "text/plain": [
       "str"
      ]
     },
     "execution_count": 15,
     "metadata": {},
     "output_type": "execute_result"
    }
   ],
   "source": [
    "type(name1)"
   ]
  },
  {
   "cell_type": "code",
   "execution_count": 21,
   "id": "3915de82",
   "metadata": {},
   "outputs": [
    {
     "data": {
      "text/plain": [
       "str"
      ]
     },
     "execution_count": 21,
     "metadata": {},
     "output_type": "execute_result"
    }
   ],
   "source": [
    "type(name1)"
   ]
  },
  {
   "cell_type": "code",
   "execution_count": null,
   "id": "cb557c1b",
   "metadata": {},
   "outputs": [],
   "source": []
  },
  {
   "cell_type": "code",
   "execution_count": null,
   "id": "818b55f9",
   "metadata": {},
   "outputs": [],
   "source": []
  }
 ],
 "metadata": {
  "kernelspec": {
   "display_name": "Python 3",
   "language": "python",
   "name": "python3"
  },
  "language_info": {
   "codemirror_mode": {
    "name": "ipython",
    "version": 3
   },
   "file_extension": ".py",
   "mimetype": "text/x-python",
   "name": "python",
   "nbconvert_exporter": "python",
   "pygments_lexer": "ipython3",
   "version": "3.8.8"
  }
 },
 "nbformat": 4,
 "nbformat_minor": 5
}
