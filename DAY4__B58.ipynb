{
 "cells": [
  {
   "cell_type": "code",
   "execution_count": null,
   "id": "dd8356df",
   "metadata": {},
   "outputs": [],
   "source": [
    "INTRODUCTION TO LIST DATATYPES :"
   ]
  },
  {
   "cell_type": "code",
   "execution_count": null,
   "id": "03eb7235",
   "metadata": {},
   "outputs": [],
   "source": [
    "Definition : A list is a collection of items declared in a particular order.\n",
    "    \n",
    "Classification : It is classified as mutable datatype."
   ]
  },
  {
   "cell_type": "code",
   "execution_count": null,
   "id": "4a3b4ee0",
   "metadata": {},
   "outputs": [],
   "source": [
    " how to define/declare a list datatype :"
   ]
  },
  {
   "cell_type": "code",
   "execution_count": 1,
   "id": "1bb343c4",
   "metadata": {},
   "outputs": [],
   "source": [
    "students = ['naveen','abdul','imran','joseph','keerthi','shaheen','dolly','navya']"
   ]
  },
  {
   "cell_type": "code",
   "execution_count": 2,
   "id": "466389fd",
   "metadata": {},
   "outputs": [
    {
     "name": "stdout",
     "output_type": "stream",
     "text": [
      "['naveen', 'abdul', 'imran', 'joseph', 'keerthi', 'shaheen', 'dolly', 'navya']\n"
     ]
    }
   ],
   "source": [
    "print(students)"
   ]
  },
  {
   "cell_type": "code",
   "execution_count": 3,
   "id": "7a1efe3f",
   "metadata": {},
   "outputs": [
    {
     "data": {
      "text/plain": [
       "list"
      ]
     },
     "execution_count": 3,
     "metadata": {},
     "output_type": "execute_result"
    }
   ],
   "source": [
    "type(students)"
   ]
  },
  {
   "cell_type": "code",
   "execution_count": null,
   "id": "3c663451",
   "metadata": {},
   "outputs": [],
   "source": [
    "----> how to access the above elements in the list"
   ]
  },
  {
   "cell_type": "code",
   "execution_count": null,
   "id": "e7c2a90d",
   "metadata": {},
   "outputs": [],
   "source": [
    "# In case of accessing abdul name from the above list"
   ]
  },
  {
   "cell_type": "code",
   "execution_count": null,
   "id": "3688f878",
   "metadata": {},
   "outputs": [],
   "source": [
    "Introduction to indexing : 0,1,2,3,4,5....."
   ]
  },
  {
   "cell_type": "code",
   "execution_count": 4,
   "id": "78d4cc17",
   "metadata": {},
   "outputs": [
    {
     "name": "stdout",
     "output_type": "stream",
     "text": [
      "abdul\n"
     ]
    }
   ],
   "source": [
    "print(students[1])"
   ]
  },
  {
   "cell_type": "code",
   "execution_count": null,
   "id": "c6d2adf3",
   "metadata": {},
   "outputs": [],
   "source": [
    "# In case of accessing keerthi from the list"
   ]
  },
  {
   "cell_type": "code",
   "execution_count": 5,
   "id": "977f70a2",
   "metadata": {},
   "outputs": [
    {
     "name": "stdout",
     "output_type": "stream",
     "text": [
      "keerthi\n"
     ]
    }
   ],
   "source": [
    "print(students[4])"
   ]
  },
  {
   "cell_type": "code",
   "execution_count": null,
   "id": "d15ffb2d",
   "metadata": {},
   "outputs": [],
   "source": []
  },
  {
   "cell_type": "code",
   "execution_count": null,
   "id": "1f43dc56",
   "metadata": {},
   "outputs": [],
   "source": []
  },
  {
   "cell_type": "code",
   "execution_count": null,
   "id": "b9d4e8e9",
   "metadata": {},
   "outputs": [],
   "source": [
    "1. How to add new elements to the list"
   ]
  },
  {
   "cell_type": "code",
   "execution_count": 6,
   "id": "16a5b253",
   "metadata": {},
   "outputs": [
    {
     "name": "stdout",
     "output_type": "stream",
     "text": [
      "['naveen', 'abdul', 'imran', 'joseph', 'keerthi', 'shaheen', 'dolly', 'navya']\n"
     ]
    }
   ],
   "source": [
    "print(students)"
   ]
  },
  {
   "cell_type": "code",
   "execution_count": null,
   "id": "935a850a",
   "metadata": {},
   "outputs": [],
   "source": [
    "# In case of addition of kumar name to the list"
   ]
  },
  {
   "cell_type": "code",
   "execution_count": 7,
   "id": "0437f5f8",
   "metadata": {},
   "outputs": [],
   "source": [
    "students.append('kumar')"
   ]
  },
  {
   "cell_type": "code",
   "execution_count": 8,
   "id": "4d15d271",
   "metadata": {},
   "outputs": [
    {
     "name": "stdout",
     "output_type": "stream",
     "text": [
      "['naveen', 'abdul', 'imran', 'joseph', 'keerthi', 'shaheen', 'dolly', 'navya', 'kumar']\n"
     ]
    }
   ],
   "source": [
    "print(students)"
   ]
  },
  {
   "cell_type": "code",
   "execution_count": null,
   "id": "02a141fc",
   "metadata": {},
   "outputs": [],
   "source": [
    "# In case of addition of sana name to the list"
   ]
  },
  {
   "cell_type": "code",
   "execution_count": 9,
   "id": "86dd356f",
   "metadata": {},
   "outputs": [],
   "source": [
    "students.append('sana')"
   ]
  },
  {
   "cell_type": "code",
   "execution_count": 10,
   "id": "8f65cc6c",
   "metadata": {},
   "outputs": [
    {
     "name": "stdout",
     "output_type": "stream",
     "text": [
      "['naveen', 'abdul', 'imran', 'joseph', 'keerthi', 'shaheen', 'dolly', 'navya', 'kumar', 'sana']\n"
     ]
    }
   ],
   "source": [
    "print(students)"
   ]
  },
  {
   "cell_type": "code",
   "execution_count": null,
   "id": "0d1ff0cd",
   "metadata": {},
   "outputs": [],
   "source": [
    "# In case of addition of yamini name to the 2nd position in the list"
   ]
  },
  {
   "cell_type": "code",
   "execution_count": 12,
   "id": "45addd80",
   "metadata": {},
   "outputs": [],
   "source": [
    "students.insert(2,'yamini')"
   ]
  },
  {
   "cell_type": "code",
   "execution_count": 13,
   "id": "a3a49839",
   "metadata": {},
   "outputs": [
    {
     "name": "stdout",
     "output_type": "stream",
     "text": [
      "['naveen', 'abdul', 'yamini', 'imran', 'joseph', 'keerthi', 'shaheen', 'dolly', 'navya', 'kumar', 'sana']\n"
     ]
    }
   ],
   "source": [
    "print(students)"
   ]
  },
  {
   "cell_type": "code",
   "execution_count": null,
   "id": "c3bd7667",
   "metadata": {},
   "outputs": [],
   "source": []
  },
  {
   "cell_type": "code",
   "execution_count": null,
   "id": "ed555dce",
   "metadata": {},
   "outputs": [],
   "source": []
  },
  {
   "cell_type": "code",
   "execution_count": null,
   "id": "7bb46264",
   "metadata": {},
   "outputs": [],
   "source": [
    "2. How to modify the elements in the list"
   ]
  },
  {
   "cell_type": "code",
   "execution_count": 14,
   "id": "9a36e610",
   "metadata": {},
   "outputs": [
    {
     "name": "stdout",
     "output_type": "stream",
     "text": [
      "['naveen', 'abdul', 'yamini', 'imran', 'joseph', 'keerthi', 'shaheen', 'dolly', 'navya', 'kumar', 'sana']\n"
     ]
    }
   ],
   "source": [
    "print(students)"
   ]
  },
  {
   "cell_type": "code",
   "execution_count": null,
   "id": "89e85b3e",
   "metadata": {},
   "outputs": [],
   "source": [
    "# In case of modification of naveen to navya"
   ]
  },
  {
   "cell_type": "code",
   "execution_count": 15,
   "id": "57deeda6",
   "metadata": {},
   "outputs": [
    {
     "name": "stdout",
     "output_type": "stream",
     "text": [
      "naveen\n"
     ]
    }
   ],
   "source": [
    "print(students[0])"
   ]
  },
  {
   "cell_type": "code",
   "execution_count": 16,
   "id": "14f05779",
   "metadata": {},
   "outputs": [],
   "source": [
    "students[0] = 'navya'"
   ]
  },
  {
   "cell_type": "code",
   "execution_count": 17,
   "id": "4ebd0194",
   "metadata": {},
   "outputs": [
    {
     "name": "stdout",
     "output_type": "stream",
     "text": [
      "['navya', 'abdul', 'yamini', 'imran', 'joseph', 'keerthi', 'shaheen', 'dolly', 'navya', 'kumar', 'sana']\n"
     ]
    }
   ],
   "source": [
    "print(students)"
   ]
  },
  {
   "cell_type": "code",
   "execution_count": null,
   "id": "53af1524",
   "metadata": {},
   "outputs": [],
   "source": []
  },
  {
   "cell_type": "code",
   "execution_count": null,
   "id": "b2256bad",
   "metadata": {},
   "outputs": [],
   "source": []
  },
  {
   "cell_type": "code",
   "execution_count": null,
   "id": "eb28fbbd",
   "metadata": {},
   "outputs": [],
   "source": [
    "3. How to delete the elements from the list"
   ]
  },
  {
   "cell_type": "code",
   "execution_count": 18,
   "id": "50ae1dfc",
   "metadata": {},
   "outputs": [
    {
     "name": "stdout",
     "output_type": "stream",
     "text": [
      "['navya', 'abdul', 'yamini', 'imran', 'joseph', 'keerthi', 'shaheen', 'dolly', 'navya', 'kumar', 'sana']\n"
     ]
    }
   ],
   "source": [
    "print(students)"
   ]
  },
  {
   "cell_type": "code",
   "execution_count": null,
   "id": "25d6efc1",
   "metadata": {},
   "outputs": [],
   "source": [
    "# In case of deletion of joseph from the list"
   ]
  },
  {
   "cell_type": "code",
   "execution_count": 19,
   "id": "76aaab2d",
   "metadata": {},
   "outputs": [],
   "source": [
    "del students[4]  ------> PERMANANTLY DELETING THE THINGS"
   ]
  },
  {
   "cell_type": "code",
   "execution_count": 20,
   "id": "20a21099",
   "metadata": {},
   "outputs": [
    {
     "name": "stdout",
     "output_type": "stream",
     "text": [
      "['navya', 'abdul', 'yamini', 'imran', 'keerthi', 'shaheen', 'dolly', 'navya', 'kumar', 'sana']\n"
     ]
    }
   ],
   "source": [
    "print(students)"
   ]
  },
  {
   "cell_type": "code",
   "execution_count": null,
   "id": "88a20c68",
   "metadata": {},
   "outputs": [],
   "source": [
    "# In case of temporary deletion **"
   ]
  },
  {
   "cell_type": "code",
   "execution_count": null,
   "id": "bb189a65",
   "metadata": {},
   "outputs": [],
   "source": [
    "pop =====> It is used to delete the things temporarily -----> it will be a carbon copy of the deleted items and stores in a \n",
    "variable assigned to it\n",
    "\n",
    "pop =====> by default will be deleting the last element of the list"
   ]
  },
  {
   "cell_type": "code",
   "execution_count": 21,
   "id": "a3f757f5",
   "metadata": {},
   "outputs": [
    {
     "name": "stdout",
     "output_type": "stream",
     "text": [
      "['navya', 'abdul', 'yamini', 'imran', 'keerthi', 'shaheen', 'dolly', 'navya', 'kumar', 'sana']\n"
     ]
    }
   ],
   "source": [
    "print(students)"
   ]
  },
  {
   "cell_type": "code",
   "execution_count": 22,
   "id": "dfd21e63",
   "metadata": {},
   "outputs": [],
   "source": [
    "x = students.pop()"
   ]
  },
  {
   "cell_type": "code",
   "execution_count": 23,
   "id": "1b78dddf",
   "metadata": {},
   "outputs": [
    {
     "name": "stdout",
     "output_type": "stream",
     "text": [
      "['navya', 'abdul', 'yamini', 'imran', 'keerthi', 'shaheen', 'dolly', 'navya', 'kumar']\n"
     ]
    }
   ],
   "source": [
    "print(students)"
   ]
  },
  {
   "cell_type": "code",
   "execution_count": 24,
   "id": "9d7f561f",
   "metadata": {},
   "outputs": [
    {
     "name": "stdout",
     "output_type": "stream",
     "text": [
      "sana\n"
     ]
    }
   ],
   "source": [
    "print(x)"
   ]
  }
 ],
 "metadata": {
  "kernelspec": {
   "display_name": "Python 3",
   "language": "python",
   "name": "python3"
  },
  "language_info": {
   "codemirror_mode": {
    "name": "ipython",
    "version": 3
   },
   "file_extension": ".py",
   "mimetype": "text/x-python",
   "name": "python",
   "nbconvert_exporter": "python",
   "pygments_lexer": "ipython3",
   "version": "3.8.8"
  }
 },
 "nbformat": 4,
 "nbformat_minor": 5
}
